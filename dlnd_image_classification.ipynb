{
 "cells": [
  {
   "cell_type": "markdown",
   "metadata": {
    "collapsed": true
   },
   "source": [
    "# Image Classification\n",
    "In this project, you'll classify images from the [CIFAR-10 dataset](https://www.cs.toronto.edu/~kriz/cifar.html).  The dataset consists of airplanes, dogs, cats, and other objects. You'll preprocess the images, then train a convolutional neural network on all the samples. The images need to be normalized and the labels need to be one-hot encoded.  You'll get to apply what you learned and build a convolutional, max pooling, dropout, and fully connected layers.  At the end, you'll get to see your neural network's predictions on the sample images.\n",
    "## Get the Data\n",
    "Run the following cell to download the [CIFAR-10 dataset for python](https://www.cs.toronto.edu/~kriz/cifar-10-python.tar.gz)."
   ]
  },
  {
   "cell_type": "code",
   "execution_count": 1,
   "metadata": {
    "collapsed": false
   },
   "outputs": [
    {
     "name": "stdout",
     "output_type": "stream",
     "text": [
      "All files found!\n"
     ]
    }
   ],
   "source": [
    "\"\"\"\n",
    "DON'T MODIFY ANYTHING IN THIS CELL THAT IS BELOW THIS LINE\n",
    "\"\"\"\n",
    "from urllib.request import urlretrieve\n",
    "from os.path import isfile, isdir\n",
    "from tqdm import tqdm\n",
    "import problem_unittests as tests\n",
    "import tarfile\n",
    "\n",
    "cifar10_dataset_folder_path = 'cifar-10-batches-py'\n",
    "\n",
    "# Use Floyd's cifar-10 dataset if present\n",
    "floyd_cifar10_location = '/input/cifar-10/python.tar.gz'\n",
    "if isfile(floyd_cifar10_location):\n",
    "    tar_gz_path = floyd_cifar10_location\n",
    "else:\n",
    "    tar_gz_path = 'cifar-10-python.tar.gz'\n",
    "\n",
    "class DLProgress(tqdm):\n",
    "    last_block = 0\n",
    "\n",
    "    def hook(self, block_num=1, block_size=1, total_size=None):\n",
    "        self.total = total_size\n",
    "        self.update((block_num - self.last_block) * block_size)\n",
    "        self.last_block = block_num\n",
    "\n",
    "if not isfile(tar_gz_path):\n",
    "    with DLProgress(unit='B', unit_scale=True, miniters=1, desc='CIFAR-10 Dataset') as pbar:\n",
    "        urlretrieve(\n",
    "            'https://www.cs.toronto.edu/~kriz/cifar-10-python.tar.gz',\n",
    "            tar_gz_path,\n",
    "            pbar.hook)\n",
    "\n",
    "if not isdir(cifar10_dataset_folder_path):\n",
    "    with tarfile.open(tar_gz_path) as tar:\n",
    "        tar.extractall()\n",
    "        tar.close()\n",
    "\n",
    "\n",
    "tests.test_folder_path(cifar10_dataset_folder_path)"
   ]
  },
  {
   "cell_type": "markdown",
   "metadata": {},
   "source": [
    "## Explore the Data\n",
    "The dataset is broken into batches to prevent your machine from running out of memory.  The CIFAR-10 dataset consists of 5 batches, named `data_batch_1`, `data_batch_2`, etc.. Each batch contains the labels and images that are one of the following:\n",
    "* airplane\n",
    "* automobile\n",
    "* bird\n",
    "* cat\n",
    "* deer\n",
    "* dog\n",
    "* frog\n",
    "* horse\n",
    "* ship\n",
    "* truck\n",
    "\n",
    "Understanding a dataset is part of making predictions on the data.  Play around with the code cell below by changing the `batch_id` and `sample_id`. The `batch_id` is the id for a batch (1-5). The `sample_id` is the id for a image and label pair in the batch.\n",
    "\n",
    "Ask yourself \"What are all possible labels?\", \"What is the range of values for the image data?\", \"Are the labels in order or random?\".  Answers to questions like these will help you preprocess the data and end up with better predictions."
   ]
  },
  {
   "cell_type": "code",
   "execution_count": 2,
   "metadata": {
    "collapsed": false
   },
   "outputs": [
    {
     "name": "stdout",
     "output_type": "stream",
     "text": [
      "\n",
      "Stats of batch 2:\n",
      "Samples: 10000\n",
      "Label Counts: {0: 984, 1: 1007, 2: 1010, 3: 995, 4: 1010, 5: 988, 6: 1008, 7: 1026, 8: 987, 9: 985}\n",
      "First 20 Labels: [1, 6, 6, 8, 8, 3, 4, 6, 0, 6, 0, 3, 6, 6, 5, 4, 8, 3, 2, 6]\n",
      "\n",
      "Example of Image 9999:\n",
      "Image - Min Value: 3 Max Value: 253\n",
      "Image - Shape: (32, 32, 3)\n",
      "Label - Label Id: 5 Name: dog\n"
     ]
    },
    {
     "data": {
      "image/png": "[encoded data removed]",
      "text/plain": [
       "<matplotlib.figure.Figure at 0x1bc2a8187b8>"
      ]
     },
     "metadata": {
      "image/png": {
       "height": 250,
       "width": 253
      }
     },
     "output_type": "display_data"
    }
   ],
   "source": [
    "%matplotlib inline\n",
    "%config InlineBackend.figure_format = 'retina'\n",
    "\n",
    "import helper\n",
    "import numpy as np\n",
    "\n",
    "# Explore the dataset\n",
    "batch_id = 2\n",
    "sample_id = 9999\n",
    "helper.display_stats(cifar10_dataset_folder_path, batch_id, sample_id)"
   ]
  },
  {
   "cell_type": "markdown",
   "metadata": {},
   "source": [
    "## Implement Preprocess Functions\n",
    "### Normalize\n",
    "In the cell below, implement the `normalize` function to take in image data, `x`, and return it as a normalized Numpy array. The values should be in the range of 0 to 1, inclusive.  The return object should be the same shape as `x`."
   ]
  },
  {
   "cell_type": "code",
   "execution_count": 3,
   "metadata": {
    "collapsed": false
   },
   "outputs": [
    {
     "name": "stdout",
     "output_type": "stream",
     "text": [
      "Tests Passed\n"
     ]
    }
   ],
   "source": [
    "def normalize(x):\n",
    "    \"\"\"\n",
    "    Normalize a list of sample image data in the range of 0 to 1\n",
    "    : x: List of image data.  The image shape is (32, 32, 3)\n",
    "    : return: Numpy array of normalize data\n",
    "    \"\"\"\n",
    "    # TODO: Implement Function\n",
    "    return x / np.linalg.norm(x)\n",
    "\n",
    "\n",
    "\"\"\"\n",
    "DON'T MODIFY ANYTHING IN THIS CELL THAT IS BELOW THIS LINE\n",
    "\"\"\"\n",
    "tests.test_normalize(normalize)"
   ]
  },
  {
   "cell_type": "markdown",
   "metadata": {},
   "source": [
    "### One-hot encode\n",
    "Just like the previous code cell, you'll be implementing a function for preprocessing.  This time, you'll implement the `one_hot_encode` function. The input, `x`, are a list of labels.  Implement the function to return the list of labels as One-Hot encoded Numpy array.  The possible values for labels are 0 to 9. The one-hot encoding function should return the same encoding for each value between each call to `one_hot_encode`.  Make sure to save the map of encodings outside the function.\n",
    "\n",
    "Hint: Don't reinvent the wheel."
   ]
  },
  {
   "cell_type": "code",
   "execution_count": 4,
   "metadata": {
    "collapsed": false
   },
   "outputs": [
    {
     "name": "stdout",
     "output_type": "stream",
     "text": [
      "Tests Passed\n"
     ]
    }
   ],
   "source": [
    "def one_hot_encode(x):\n",
    "    \"\"\"\n",
    "    One hot encode a list of sample labels. Return a one-hot encoded vector for each label.\n",
    "    : x: List of sample Labels\n",
    "    : return: Numpy array of one-hot encoded labels\n",
    "    \"\"\"\n",
    "    # TODO: Implement Function\n",
    "    return np.eye(10)[x]\n",
    "\n",
    "\n",
    "\"\"\"\n",
    "DON'T MODIFY ANYTHING IN THIS CELL THAT IS BELOW THIS LINE\n",
    "\"\"\"\n",
    "tests.test_one_hot_encode(one_hot_encode)"
   ]
  },
  {
   "cell_type": "markdown",
   "metadata": {},
   "source": [
    "### Randomize Data\n",
    "As you saw from exploring the data above, the order of the samples are randomized.  It doesn't hurt to randomize it again, but you don't need to for this dataset."
   ]
  },
  {
   "cell_type": "markdown",
   "metadata": {},
   "source": [
    "## Preprocess all the data and save it\n",
    "Running the code cell below will preprocess all the CIFAR-10 data and save it to file. The code below also uses 10% of the training data for validation."
   ]
  },
  {
   "cell_type": "code",
   "execution_count": 5,
   "metadata": {
    "collapsed": false
   },
   "outputs": [],
   "source": [
    "\"\"\"\n",
    "DON'T MODIFY ANYTHING IN THIS CELL\n",
    "\"\"\"\n",
    "# Preprocess Training, Validation, and Testing Data\n",
    "helper.preprocess_and_save_data(cifar10_dataset_folder_path, normalize, one_hot_encode)"
   ]
  },
  {
   "cell_type": "markdown",
   "metadata": {},
   "source": [
    "# Check Point\n",
    "This is your first checkpoint.  If you ever decide to come back to this notebook or have to restart the notebook, you can start from here.  The preprocessed data has been saved to disk."
   ]
  },
  {
   "cell_type": "code",
   "execution_count": 6,
   "metadata": {
    "collapsed": true
   },
   "outputs": [],
   "source": [
    "\"\"\"\n",
    "DON'T MODIFY ANYTHING IN THIS CELL\n",
    "\"\"\"\n",
    "import pickle\n",
    "import problem_unittests as tests\n",
    "import helper\n",
    "\n",
    "# Load the Preprocessed Validation data\n",
    "valid_features, valid_labels = pickle.load(open('preprocess_validation.p', mode='rb'))"
   ]
  },
  {
   "cell_type": "code",
   "execution_count": 7,
   "metadata": {
    "collapsed": false
   },
   "outputs": [
    {
     "name": "stdout",
     "output_type": "stream",
     "text": [
      "Loading data: d:/data/CIFAR-10/cifar-10-batches-py/batches.meta\n"
     ]
    },
    {
     "data": {
      "text/plain": [
       "['airplane',\n",
       " 'automobile',\n",
       " 'bird',\n",
       " 'cat',\n",
       " 'deer',\n",
       " 'dog',\n",
       " 'frog',\n",
       " 'horse',\n",
       " 'ship',\n",
       " 'truck']"
      ]
     },
     "execution_count": 7,
     "metadata": {},
     "output_type": "execute_result"
    }
   ],
   "source": [
    "#Credits go to -> #//github.com/Hvass-Labs/TensorFlow-Tutorials\n",
    "\n",
    "import cifar10 \n",
    "cifar10.data_path = \"d:/data/CIFAR-10/\"\n",
    "class_names = cifar10.load_class_names()\n",
    "class_names"
   ]
  },
  {
   "cell_type": "code",
   "execution_count": 8,
   "metadata": {
    "collapsed": true
   },
   "outputs": [],
   "source": [
    "#Credits go to -> #//github.com/Hvass-Labs/TensorFlow-Tutorials\n",
    "def plot_images(images, cls_true, cls_pred=None, smooth=True):\n",
    "\n",
    "    assert len(images) == len(cls_true) == 9\n",
    "\n",
    "    # Create figure with sub-plots.\n",
    "    fig, axes = plt.subplots(3, 3)\n",
    "\n",
    "    # Adjust vertical spacing if we need to print ensemble and best-net.\n",
    "    if cls_pred is None:\n",
    "        hspace = 0.3\n",
    "    else:\n",
    "        hspace = 0.6\n",
    "    fig.subplots_adjust(hspace=hspace, wspace=0.3)\n",
    "\n",
    "    for i, ax in enumerate(axes.flat):\n",
    "        # Interpolation type.\n",
    "        if smooth:\n",
    "            interpolation = 'spline16'\n",
    "        else:\n",
    "            interpolation = 'nearest'\n",
    "\n",
    "        # Plot image.\n",
    "        ax.imshow(images[i, :, :, :],\n",
    "                  interpolation=interpolation)\n",
    "            \n",
    "        # Name of the true class.\n",
    "        cls_true_name = class_names[cls_true[i]]\n",
    "\n",
    "        # Show true and predicted classes.\n",
    "        if cls_pred is None:\n",
    "            xlabel = \"True: {0}\".format(cls_true_name)\n",
    "        else:\n",
    "            # Name of the predicted class.\n",
    "            cls_pred_name = class_names[cls_pred[i]]\n",
    "\n",
    "            xlabel = \"True: {0}\\nPred: {1}\".format(cls_true_name, cls_pred_name)\n",
    "\n",
    "        # Show the classes as the label on the x-axis.\n",
    "        ax.set_xlabel(xlabel)\n",
    "        \n",
    "        # Remove ticks from the plot.\n",
    "        ax.set_xticks([])\n",
    "        ax.set_yticks([])\n",
    "    \n",
    "    # Ensure the plot is shown correctly with multiple plots\n",
    "    # in a single Notebook cell.\n",
    "    plt.show()"
   ]
  },
  {
   "cell_type": "code",
   "execution_count": 9,
   "metadata": {
    "collapsed": false
   },
   "outputs": [
    {
     "name": "stdout",
     "output_type": "stream",
     "text": [
      "Loading data: d:/data/CIFAR-10/cifar-10-batches-py/test_batch\n"
     ]
    },
    {
     "data": {
      "image/png": "[encoded data removed]",
      "text/plain": [
       "<matplotlib.figure.Figure at 0x1bc28eab748>"
      ]
     },
     "metadata": {
      "image/png": {
       "height": 247,
       "width": 331
      }
     },
     "output_type": "display_data"
    }
   ],
   "source": [
    "#Credits go to -> #//github.com/Hvass-Labs/TensorFlow-Tutorials\n",
    "%matplotlib inline\n",
    "import matplotlib.pyplot as plt\n",
    "\n",
    "images_test, cls_test, labels_test = cifar10.load_test_data()\n",
    "# Get the first images from the test-set.\n",
    "images = images_test[0:9]\n",
    "\n",
    "# Get the true classes for those images.\n",
    "cls_true = cls_test[0:9]\n",
    "\n",
    "# Plot the images and labels using our helper-function above.\n",
    "plot_images(images=images, cls_true=cls_true, smooth=False)"
   ]
  },
  {
   "cell_type": "code",
   "execution_count": 5,
   "metadata": {
    "collapsed": false
   },
   "outputs": [
    {
     "data": {
      "image/png": "[encoded data removed]",
      "text/plain": [
       "<matplotlib.figure.Figure at 0x1c7f3672128>"
      ]
     },
     "metadata": {},
     "output_type": "display_data"
    }
   ],
   "source": [
    "#Credits go to -> #//github.com/Hvass-Labs/TensorFlow-Tutorials\n",
    "plot_images(images=images, cls_true=cls_true, smooth=True)"
   ]
  },
  {
   "cell_type": "markdown",
   "metadata": {},
   "source": [
    "## Build the network\n",
    "For the neural network, you'll build each layer into a function.  Most of the code you've seen has been outside of functions. To test your code more thoroughly, we require that you put each layer in a function.  This allows us to give you better feedback and test for simple mistakes using our unittests before you submit your project.\n",
    "\n",
    ">**Note:** If you're finding it hard to dedicate enough time for this course each week, we've provided a small shortcut to this part of the project. In the next couple of problems, you'll have the option to use classes from the [TensorFlow Layers](https://www.tensorflow.org/api_docs/python/tf/layers) or [TensorFlow Layers (contrib)](https://www.tensorflow.org/api_guides/python/contrib.layers) packages to build each layer, except the layers you build in the \"Convolutional and Max Pooling Layer\" section.  TF Layers is similar to Keras's and TFLearn's abstraction to layers, so it's easy to pickup.\n",
    "\n",
    ">However, if you would like to get the most out of this course, try to solve all the problems _without_ using anything from the TF Layers packages. You **can** still use classes from other packages that happen to have the same name as ones you find in TF Layers! For example, instead of using the TF Layers version of the `conv2d` class, [tf.layers.conv2d](https://www.tensorflow.org/api_docs/python/tf/layers/conv2d), you would want to use the TF Neural Network version of `conv2d`, [tf.nn.conv2d](https://www.tensorflow.org/api_docs/python/tf/nn/conv2d). \n",
    "\n",
    "Let's begin!\n",
    "\n",
    "### Input\n",
    "The neural network needs to read the image data, one-hot encoded labels, and dropout keep probability. Implement the following functions\n",
    "* Implement `neural_net_image_input`\n",
    " * Return a [TF Placeholder](https://www.tensorflow.org/api_docs/python/tf/placeholder)\n",
    " * Set the shape using `image_shape` with batch size set to `None`.\n",
    " * Name the TensorFlow placeholder \"x\" using the TensorFlow `name` parameter in the [TF Placeholder](https://www.tensorflow.org/api_docs/python/tf/placeholder).\n",
    "* Implement `neural_net_label_input`\n",
    " * Return a [TF Placeholder](https://www.tensorflow.org/api_docs/python/tf/placeholder)\n",
    " * Set the shape using `n_classes` with batch size set to `None`.\n",
    " * Name the TensorFlow placeholder \"y\" using the TensorFlow `name` parameter in the [TF Placeholder](https://www.tensorflow.org/api_docs/python/tf/placeholder).\n",
    "* Implement `neural_net_keep_prob_input`\n",
    " * Return a [TF Placeholder](https://www.tensorflow.org/api_docs/python/tf/placeholder) for dropout keep probability.\n",
    " * Name the TensorFlow placeholder \"keep_prob\" using the TensorFlow `name` parameter in the [TF Placeholder](https://www.tensorflow.org/api_docs/python/tf/placeholder).\n",
    "\n",
    "These names will be used at the end of the project to load your saved model.\n",
    "\n",
    "Note: `None` for shapes in TensorFlow allow for a dynamic size."
   ]
  },
  {
   "cell_type": "code",
   "execution_count": 10,
   "metadata": {
    "collapsed": false
   },
   "outputs": [
    {
     "name": "stdout",
     "output_type": "stream",
     "text": [
      "Image Input Tests Passed.\n",
      "Label Input Tests Passed.\n",
      "Keep Prob Tests Passed.\n"
     ]
    }
   ],
   "source": [
    "import tensorflow as tf\n",
    "\n",
    "def neural_net_image_input(image_shape):\n",
    "    \"\"\"\n",
    "    Return a Tensor for a batch of image input\n",
    "    : image_shape: Shape of the images\n",
    "    : return: Tensor for image input.\n",
    "    \"\"\"\n",
    "    # TODO: Implement Function\n",
    "    return tf.placeholder(tf.float32, \n",
    "                          shape=[None, \n",
    "                                 image_shape[0], \n",
    "                                 image_shape[1], \n",
    "                                 image_shape[2]], \n",
    "                          name='x')\n",
    "\n",
    "\n",
    "def neural_net_label_input(n_classes):\n",
    "    \"\"\"\n",
    "    Return a Tensor for a batch of label input\n",
    "    : n_classes: Number of classes\n",
    "    : return: Tensor for label input.\n",
    "    \"\"\"\n",
    "    # TODO: Implement Function\n",
    "    return tf.placeholder(tf.float32, \n",
    "                          shape=[None, n_classes], \n",
    "                          name='y')\n",
    "\n",
    "\n",
    "def neural_net_keep_prob_input():\n",
    "    \"\"\"\n",
    "    Return a Tensor for keep probability\n",
    "    : return: Tensor for keep probability.\n",
    "    \"\"\"\n",
    "    # TODO: Implement Function\n",
    "    return tf.placeholder(tf.float32, name='keep_prob')\n",
    "\n",
    "\n",
    "\"\"\"\n",
    "DON'T MODIFY ANYTHING IN THIS CELL THAT IS BELOW THIS LINE\n",
    "\"\"\"\n",
    "tf.reset_default_graph()\n",
    "tests.test_nn_image_inputs(neural_net_image_input)\n",
    "tests.test_nn_label_inputs(neural_net_label_input)\n",
    "tests.test_nn_keep_prob_inputs(neural_net_keep_prob_input)"
   ]
  },
  {
   "cell_type": "markdown",
   "metadata": {},
   "source": [
    "### Convolution and Max Pooling Layer\n",
    "Convolution layers have a lot of success with images. For this code cell, you should implement the function `conv2d_maxpool` to apply convolution then max pooling:\n",
    "* Create the weight and bias using `conv_ksize`, `conv_num_outputs` and the shape of `x_tensor`.\n",
    "* Apply a convolution to `x_tensor` using weight and `conv_strides`.\n",
    " * We recommend you use same padding, but you're welcome to use any padding.\n",
    "* Add bias\n",
    "* Add a nonlinear activation to the convolution.\n",
    "* Apply Max Pooling using `pool_ksize` and `pool_strides`.\n",
    " * We recommend you use same padding, but you're welcome to use any padding.\n",
    "\n",
    "**Note:** You **can't** use [TensorFlow Layers](https://www.tensorflow.org/api_docs/python/tf/layers) or [TensorFlow Layers (contrib)](https://www.tensorflow.org/api_guides/python/contrib.layers) for **this** layer, but you can still use TensorFlow's [Neural Network](https://www.tensorflow.org/api_docs/python/tf/nn) package. You may still use the shortcut option for all the **other** layers."
   ]
  },
  {
   "cell_type": "code",
   "execution_count": 11,
   "metadata": {
    "collapsed": false
   },
   "outputs": [
    {
     "name": "stdout",
     "output_type": "stream",
     "text": [
      "Tests Passed\n"
     ]
    }
   ],
   "source": [
    "#def conv2d(x, W, strides): \n",
    "#    return tf.nn.conv2d(x, W, strides=strides, padding='SAME')\n",
    "#def bias(conv_layer, bias): \n",
    "#    return tf.nn.bias_add(conv_layer, bias)\n",
    "#def sigmoid(conv_layer): \n",
    "#    return tf.nn.relu(conv_layer)\n",
    "#def maxpool2d(x, ksize, strides): \n",
    "#    return tf.nn.max_pool(x, ksize=ksize, strides=strides, padding='SAME')\n",
    "import numpy as np\n",
    "def conv2d_maxpool(x_tensor, conv_num_outputs, conv_ksize, conv_strides, pool_ksize, pool_strides):\n",
    "    \"\"\"\n",
    "    Apply convolution then max pooling to x_tensor\n",
    "    :param x_tensor: TensorFlow Tensor\n",
    "    :param conv_num_outputs: Number of outputs for the convolutional layer\n",
    "    :param conv_ksize: kernal size 2-D Tuple for the convolutional layer\n",
    "    :param conv_strides: Stride 2-D Tuple for convolution\n",
    "    :param pool_ksize: kernal size 2-D Tuple for pool\n",
    "    :param pool_strides: Stride 2-D Tuple for pool\n",
    "    : return: A tensor that represents convolution and max pooling of x_tensor\n",
    "    \"\"\"\n",
    "    # TODO: Implement Function\n",
    "    input_depth = x_tensor.get_shape()[3].value\n",
    "    #print(input_depth)\n",
    "    \n",
    "    input_height = conv_ksize[0]\n",
    "    input_width = conv_ksize[1]\n",
    "    \n",
    "    W = tf.Variable(tf.truncated_normal((input_height, \n",
    "                                        input_width,\n",
    "                                        input_depth, \n",
    "                                        conv_num_outputs), \n",
    "                                        mean=0.0,\n",
    "                                        stddev=1.0,\n",
    "                                        dtype=tf.float32,\n",
    "                                        seed=None,\n",
    "                                        name=None))\n",
    "    \n",
    "    b = tf.Variable(tf.zeros(conv_num_outputs))\n",
    "    #b = tf.Variable(np.random.randn(conv_num_outputs) * np.sqrt(2.0/conv_num_outputs))\n",
    "    \n",
    "    #print(conv_strides)\n",
    "    #print(conv_ksize)\n",
    "    \n",
    "    conv_strides = [1, conv_strides[0], conv_strides[1], 1]\n",
    "    conv_ksize = [1, conv_ksize[0], conv_ksize[1], 1]\n",
    "    \n",
    "    #print(conv_strides)\n",
    "    #print(conv_ksize)\n",
    "    \n",
    "    #print(pool_strides)\n",
    "    #print(pool_ksize)\n",
    "    \n",
    "    pooled_strides = [1, pool_strides[0], pool_strides[1], 1]\n",
    "    pooled_ksize = [1, pool_ksize[0], pool_ksize[1], 1]\n",
    "    \n",
    "    #print(pooled_strides)\n",
    "    #print(pooled_ksize)\n",
    "    \n",
    "    #conv_layer = conv2d(x_tensor, W, conv_strides)\n",
    "    conv_layer = tf.nn.conv2d(x_tensor,\n",
    "                              W, \n",
    "                              strides=conv_strides, \n",
    "                              padding='SAME')\n",
    "    #conv_layer = bias(conv_layer, b)\n",
    "    conv_layer = tf.nn.bias_add(conv_layer, b)\n",
    "    #conv_layer = sigmoid(conv_layer)\n",
    "    conv_layer = tf.nn.relu(conv_layer)\n",
    "    #conv_layer = maxpool2d(conv_layer, pooled_ksize, pooled_strides)\n",
    "    conv_layer = tf.nn.max_pool(conv_layer, \n",
    "                                ksize=pooled_ksize, \n",
    "                                strides=pooled_strides, padding='SAME')\n",
    "    return conv_layer \n",
    "\n",
    "\n",
    "\"\"\"\n",
    "DON'T MODIFY ANYTHING IN THIS CELL THAT IS BELOW THIS LINE\n",
    "\"\"\"\n",
    "tests.test_con_pool(conv2d_maxpool)"
   ]
  },
  {
   "cell_type": "markdown",
   "metadata": {},
   "source": [
    "### Flatten Layer\n",
    "Implement the `flatten` function to change the dimension of `x_tensor` from a 4-D tensor to a 2-D tensor.  The output should be the shape (*Batch Size*, *Flattened Image Size*). Shortcut option: you can use classes from the [TensorFlow Layers](https://www.tensorflow.org/api_docs/python/tf/layers) or [TensorFlow Layers (contrib)](https://www.tensorflow.org/api_guides/python/contrib.layers) packages for this layer. For more of a challenge, only use other TensorFlow packages."
   ]
  },
  {
   "cell_type": "code",
   "execution_count": 12,
   "metadata": {
    "collapsed": false
   },
   "outputs": [
    {
     "name": "stdout",
     "output_type": "stream",
     "text": [
      "Tests Passed\n"
     ]
    }
   ],
   "source": [
    "def flatten(x_tensor):\n",
    "    \"\"\"\n",
    "    Flatten x_tensor to (Batch Size, Flattened Image Size)\n",
    "    : x_tensor: A tensor of size (Batch Size, ...), where ... are the image dimensions.\n",
    "    : return: A tensor of size (Batch Size, Flattened Image Size).\n",
    "    \"\"\"\n",
    "    # TODO: Implement Function\n",
    "    output = tf.contrib.layers.flatten(x_tensor)\n",
    "    \n",
    "    return output\n",
    "    \n",
    "\"\"\"\n",
    "DON'T MODIFY ANYTHING IN THIS CELL THAT IS BELOW THIS LINE\n",
    "\"\"\"\n",
    "tests.test_flatten(flatten)"
   ]
  },
  {
   "cell_type": "markdown",
   "metadata": {},
   "source": [
    "### Fully-Connected Layer\n",
    "Implement the `fully_conn` function to apply a fully connected layer to `x_tensor` with the shape (*Batch Size*, *num_outputs*). Shortcut option: you can use classes from the [TensorFlow Layers](https://www.tensorflow.org/api_docs/python/tf/layers) or [TensorFlow Layers (contrib)](https://www.tensorflow.org/api_guides/python/contrib.layers) packages for this layer. For more of a challenge, only use other TensorFlow packages."
   ]
  },
  {
   "cell_type": "code",
   "execution_count": 13,
   "metadata": {
    "collapsed": false
   },
   "outputs": [
    {
     "name": "stdout",
     "output_type": "stream",
     "text": [
      "Tests Passed\n"
     ]
    }
   ],
   "source": [
    "def fully_conn(x_tensor, num_outputs):\n",
    "    \"\"\"\n",
    "    Apply a fully connected layer to x_tensor using weight and bias\n",
    "    : x_tensor: A 2-D tensor where the first dimension is batch size.\n",
    "    : num_outputs: The number of output that the new tensor should be.\n",
    "    : return: A 2-D tensor where the second dimension is num_outputs.\n",
    "    \"\"\"\n",
    "    # TODO: Implement Function\n",
    "    output = tf.contrib.layers.fully_connected(x_tensor, num_outputs)\n",
    "    return output\n",
    "\n",
    "\"\"\"\n",
    "DON'T MODIFY ANYTHING IN THIS CELL THAT IS BELOW THIS LINE\n",
    "\"\"\"\n",
    "tests.test_fully_conn(fully_conn)"
   ]
  },
  {
   "cell_type": "markdown",
   "metadata": {},
   "source": [
    "### Output Layer\n",
    "Implement the `output` function to apply a fully connected layer to `x_tensor` with the shape (*Batch Size*, *num_outputs*). Shortcut option: you can use classes from the [TensorFlow Layers](https://www.tensorflow.org/api_docs/python/tf/layers) or [TensorFlow Layers (contrib)](https://www.tensorflow.org/api_guides/python/contrib.layers) packages for this layer. For more of a challenge, only use other TensorFlow packages.\n",
    "\n",
    "**Note:** Activation, softmax, or cross entropy should **not** be applied to this."
   ]
  },
  {
   "cell_type": "code",
   "execution_count": 14,
   "metadata": {
    "collapsed": false
   },
   "outputs": [
    {
     "name": "stdout",
     "output_type": "stream",
     "text": [
      "Tests Passed\n"
     ]
    }
   ],
   "source": [
    "def output(x_tensor, num_outputs):\n",
    "    \"\"\"\n",
    "    Apply a output layer to x_tensor using weight and bias\n",
    "    : x_tensor: A 2-D tensor where the first dimension is batch size.\n",
    "    : num_outputs: The number of output that the new tensor should be.\n",
    "    : return: A 2-D tensor where the second dimension is num_outputs.\n",
    "    \"\"\"\n",
    "    # TODO: Implement Function\n",
    "    #output = tf.contrib.layers.fully_connected(x_tensor, num_outputs)\n",
    "    output = tf.layers.dense(x_tensor, num_outputs, None)\n",
    "    return output\n",
    "\n",
    "\n",
    "\"\"\"\n",
    "DON'T MODIFY ANYTHING IN THIS CELL THAT IS BELOW THIS LINE\n",
    "\"\"\"\n",
    "tests.test_output(output)"
   ]
  },
  {
   "cell_type": "markdown",
   "metadata": {},
   "source": [
    "### Create Convolutional Model\n",
    "Implement the function `conv_net` to create a convolutional neural network model. The function takes in a batch of images, `x`, and outputs logits.  Use the layers you created above to create this model:\n",
    "\n",
    "* Apply 1, 2, or 3 Convolution and Max Pool layers\n",
    "* Apply a Flatten Layer\n",
    "* Apply 1, 2, or 3 Fully Connected Layers\n",
    "* Apply an Output Layer\n",
    "* Return the output\n",
    "* Apply [TensorFlow's Dropout](https://www.tensorflow.org/api_docs/python/tf/nn/dropout) to one or more layers in the model using `keep_prob`. "
   ]
  },
  {
   "cell_type": "code",
   "execution_count": 25,
   "metadata": {
    "collapsed": false
   },
   "outputs": [
    {
     "name": "stdout",
     "output_type": "stream",
     "text": [
      "Neural Network Built!\n"
     ]
    }
   ],
   "source": [
    "def conv_net(x, keep_prob):\n",
    "    \"\"\"\n",
    "    Create a convolutional neural network model\n",
    "    : x: Placeholder tensor that holds image data.\n",
    "    : keep_prob: Placeholder tensor that hold dropout keep probability.\n",
    "    : return: Tensor that represents logits\n",
    "    \"\"\"\n",
    "    # TODO: Apply 1, 2, or 3 Convolution and Max Pool layers\n",
    "    #    Play around with different number of outputs, kernel size and stride\n",
    "    # Function Definition from Above:\n",
    "    #    conv2d_maxpool(x_tensor, conv_num_outputs, conv_ksize, \n",
    "    #       conv_strides, pool_ksize, pool_strides)\n",
    "    #layer = conv2d_maxpool(x, 16, (4,4), (1,1), (2,2), (2,2))\n",
    "    #layer = conv2d_maxpool(x, 32, (4,4), (1,1), (2,2), (2,2))\n",
    "    #layer = conv2d_maxpool(x, 64, (4,4), (1,1), (2,2), (2,2))\n",
    "    #layer = conv2d_maxpool(x, 16, (3,3), (1,1), (2,2), (2,2))\n",
    "    #layer = conv2d_maxpool(layer, 32, (4,4), (1,1), (2,2), (2,2))\n",
    "    #layer = tf.nn.dropout(layer, keep_prob)\n",
    "    layer = conv2d_maxpool(x, 32, (3,3), (1,1), (2,2), (2,2))\n",
    "    #layer = tf.nn.dropout(layer, keep_prob)\n",
    "    layer = conv2d_maxpool(layer, 64, (3,3), (1,1), (2,2), (2,2))\n",
    "    layer = tf.nn.dropout(layer, keep_prob)\n",
    "    #layer = conv2d_maxpool(layer, 128, (4,4), (1,1), (2,2), (2,2))\n",
    "    #layer = tf.nn.dropout(layer, keep_prob)\n",
    "        \n",
    "    # TODO: Apply a Flatten Layer\n",
    "    # Function Definition from Above:\n",
    "    #   flatten(x_tensor)\n",
    "    layer = flatten(layer)\n",
    "\n",
    "    # TODO: Apply 1, 2, or 3 Fully Connected Layers\n",
    "    #    Play around with different number of outputs\n",
    "    # Function Definition from Above:\n",
    "    #   fully_conn(x_tensor, num_outputs)\n",
    "    layer = fully_conn(layer, 128)\n",
    "    layer = tf.nn.dropout(layer, keep_prob=keep_prob)\n",
    "    \n",
    "    layer = fully_conn(layer, 256)\n",
    "    layer = tf.nn.dropout(layer, keep_prob=keep_prob)\n",
    "    \n",
    "    layer = fully_conn(layer, 512)\n",
    "    layer = tf.nn.dropout(layer, keep_prob)\n",
    "    \n",
    "    #layer = fully_conn(layer, 1024)\n",
    "    #layer = tf.nn.dropout(layer, keep_prob)\n",
    "    \n",
    "    # TODO: Apply an Output Layer\n",
    "    #    Set this to the number of classes\n",
    "    # Function Definition from Above:\n",
    "    #output(x_tensor, num_outputs)\n",
    "    \n",
    "    # TODO: return output\n",
    "    return output(layer, 10)\n",
    "\n",
    "\n",
    "\"\"\"\n",
    "DON'T MODIFY ANYTHING IN THIS CELL THAT IS BELOW THIS LINE\n",
    "\"\"\"\n",
    "\n",
    "##############################\n",
    "## Build the Neural Network ##\n",
    "##############################\n",
    "\n",
    "# Remove previous weights, bias, inputs, etc..\n",
    "tf.reset_default_graph()\n",
    "\n",
    "# Inputs\n",
    "x = neural_net_image_input((32, 32, 3))\n",
    "y = neural_net_label_input(10)\n",
    "keep_prob = neural_net_keep_prob_input()\n",
    "\n",
    "# Model\n",
    "logits = conv_net(x, keep_prob)\n",
    "\n",
    "# Name logits Tensor, so that is can be loaded from disk after training\n",
    "logits = tf.identity(logits, name='logits')\n",
    "\n",
    "# Loss and Optimizer\n",
    "cost = tf.reduce_mean(tf.nn.softmax_cross_entropy_with_logits(logits=logits, labels=y))\n",
    "optimizer = tf.train.AdamOptimizer().minimize(cost)\n",
    "\n",
    "# Accuracy\n",
    "correct_pred = tf.equal(tf.argmax(logits, 1), tf.argmax(y, 1))\n",
    "accuracy = tf.reduce_mean(tf.cast(correct_pred, tf.float32), name='accuracy')\n",
    "\n",
    "tests.test_conv_net(conv_net)"
   ]
  },
  {
   "cell_type": "markdown",
   "metadata": {},
   "source": [
    "## Train the Neural Network\n",
    "### Single Optimization\n",
    "Implement the function `train_neural_network` to do a single optimization.  The optimization should use `optimizer` to optimize in `session` with a `feed_dict` of the following:\n",
    "* `x` for image input\n",
    "* `y` for labels\n",
    "* `keep_prob` for keep probability for dropout\n",
    "\n",
    "This function will be called for each batch, so `tf.global_variables_initializer()` has already been called.\n",
    "\n",
    "Note: Nothing needs to be returned. This function is only optimizing the neural network."
   ]
  },
  {
   "cell_type": "code",
   "execution_count": 16,
   "metadata": {
    "collapsed": false
   },
   "outputs": [
    {
     "name": "stdout",
     "output_type": "stream",
     "text": [
      "Tests Passed\n"
     ]
    }
   ],
   "source": [
    "def train_neural_network(session, optimizer, keep_probability, feature_batch, label_batch):\n",
    "    \"\"\"\n",
    "    Optimize the session on a batch of images and labels\n",
    "    : session: Current TensorFlow session\n",
    "    : optimizer: TensorFlow optimizer function\n",
    "    : keep_probability: keep probability\n",
    "    : feature_batch: Batch of Numpy image data\n",
    "    : label_batch: Batch of Numpy label data\n",
    "    \"\"\"\n",
    "    # TODO: Implement Function\n",
    "    session.run(optimizer, \n",
    "               feed_dict={x:feature_batch, \n",
    "                         y:label_batch, \n",
    "                         keep_prob:keep_probability})\n",
    "    \n",
    "\"\"\"\n",
    "DON'T MODIFY ANYTHING IN THIS CELL THAT IS BELOW THIS LINE\n",
    "\"\"\"\n",
    "tests.test_train_nn(train_neural_network)"
   ]
  },
  {
   "cell_type": "markdown",
   "metadata": {},
   "source": [
    "### Show Stats\n",
    "Implement the function `print_stats` to print loss and validation accuracy.  Use the global variables `valid_features` and `valid_labels` to calculate validation accuracy.  Use a keep probability of `1.0` to calculate the loss and validation accuracy."
   ]
  },
  {
   "cell_type": "code",
   "execution_count": 17,
   "metadata": {
    "collapsed": false
   },
   "outputs": [],
   "source": [
    "def print_stats(session, feature_batch, label_batch, cost, accuracy):\n",
    "    \"\"\"\n",
    "    Print information about loss and validation accuracy\n",
    "    : session: Current TensorFlow session\n",
    "    : feature_batch: Batch of Numpy image data\n",
    "    : label_batch: Batch of Numpy label data\n",
    "    : cost: TensorFlow cost function\n",
    "    : accuracy: TensorFlow accuracy function\n",
    "    \"\"\"\n",
    "    # TODO: Implement Function\n",
    "    loss = sess.run(cost, \n",
    "                   feed_dict={x:feature_batch, \n",
    "                             y:label_batch, \n",
    "                             keep_prob:1.0})\n",
    "    valid_acc = sess.run(accuracy,\n",
    "                         feed_dict={x:valid_features,\n",
    "                                    y:valid_labels, \n",
    "                                    keep_prob:1.0})\n",
    "    print('LOSS:{0}| VALIDATION:{1}'.format(loss, valid_acc))"
   ]
  },
  {
   "cell_type": "markdown",
   "metadata": {},
   "source": [
    "### Hyperparameters\n",
    "Tune the following parameters:\n",
    "* Set `epochs` to the number of iterations until the network stops learning or start overfitting\n",
    "* Set `batch_size` to the highest number that your machine has memory for.  Most people set them to common sizes of memory:\n",
    " * 64\n",
    " * 128\n",
    " * 256\n",
    " * ...\n",
    "* Set `keep_probability` to the probability of keeping a node using dropout"
   ]
  },
  {
   "cell_type": "code",
   "execution_count": 18,
   "metadata": {
    "collapsed": true
   },
   "outputs": [],
   "source": [
    "# TODO: Tune Parameters\n",
    "epochs = 20\n",
    "batch_size = 512\n",
    "keep_probability = 0.8"
   ]
  },
  {
   "cell_type": "markdown",
   "metadata": {},
   "source": [
    "### Train on a Single CIFAR-10 Batch\n",
    "Instead of training the neural network on all the CIFAR-10 batches of data, let's use a single batch. This should save time while you iterate on the model to get a better accuracy.  Once the final validation accuracy is 50% or greater, run the model on all the data in the next section."
   ]
  },
  {
   "cell_type": "code",
   "execution_count": 19,
   "metadata": {
    "collapsed": false
   },
   "outputs": [
    {
     "name": "stdout",
     "output_type": "stream",
     "text": [
      "Checking the Training on a Single Batch...\n",
      "Epoch  1, CIFAR-10 Batch 1:  LOSS:2.274632453918457| VALIDATION:0.12219998985528946\n",
      "Epoch  2, CIFAR-10 Batch 1:  LOSS:2.2522003650665283| VALIDATION:0.21979999542236328\n",
      "Epoch  3, CIFAR-10 Batch 1:  LOSS:2.141449451446533| VALIDATION:0.16760000586509705\n",
      "Epoch  4, CIFAR-10 Batch 1:  LOSS:2.0660996437072754| VALIDATION:0.2680000066757202\n",
      "Epoch  5, CIFAR-10 Batch 1:  LOSS:2.073758125305176| VALIDATION:0.2093999981880188\n",
      "Epoch  6, CIFAR-10 Batch 1:  LOSS:2.0170445442199707| VALIDATION:0.21519997715950012\n",
      "Epoch  7, CIFAR-10 Batch 1:  LOSS:2.0280423164367676| VALIDATION:0.22739998996257782\n",
      "Epoch  8, CIFAR-10 Batch 1:  LOSS:1.9103363752365112| VALIDATION:0.29659998416900635\n",
      "Epoch  9, CIFAR-10 Batch 1:  LOSS:1.8919353485107422| VALIDATION:0.30859997868537903\n",
      "Epoch 10, CIFAR-10 Batch 1:  LOSS:1.9131821393966675| VALIDATION:0.28179997205734253\n",
      "Epoch 11, CIFAR-10 Batch 1:  LOSS:1.8304803371429443| VALIDATION:0.3229999542236328\n",
      "Epoch 12, CIFAR-10 Batch 1:  LOSS:1.8445162773132324| VALIDATION:0.29499998688697815\n",
      "Epoch 13, CIFAR-10 Batch 1:  LOSS:1.8037500381469727| VALIDATION:0.3117999732494354\n",
      "Epoch 14, CIFAR-10 Batch 1:  LOSS:1.752075433731079| VALIDATION:0.34219998121261597\n",
      "Epoch 15, CIFAR-10 Batch 1:  LOSS:1.7581650018692017| VALIDATION:0.3301999866962433\n",
      "Epoch 16, CIFAR-10 Batch 1:  LOSS:1.6922169923782349| VALIDATION:0.3637999892234802\n",
      "Epoch 17, CIFAR-10 Batch 1:  LOSS:1.677069067955017| VALIDATION:0.35420000553131104\n",
      "Epoch 18, CIFAR-10 Batch 1:  LOSS:1.6968072652816772| VALIDATION:0.3302000164985657\n",
      "Epoch 19, CIFAR-10 Batch 1:  LOSS:1.6410329341888428| VALIDATION:0.3683999478816986\n",
      "Epoch 20, CIFAR-10 Batch 1:  LOSS:1.6546616554260254| VALIDATION:0.35740000009536743\n"
     ]
    }
   ],
   "source": [
    "\"\"\"\n",
    "DON'T MODIFY ANYTHING IN THIS CELL\n",
    "\"\"\"\n",
    "print('Checking the Training on a Single Batch...')\n",
    "with tf.Session() as sess:\n",
    "    # Initializing the variables\n",
    "    sess.run(tf.global_variables_initializer())\n",
    "    \n",
    "    # Training cycle\n",
    "    for epoch in range(epochs):\n",
    "        batch_i = 1\n",
    "        for batch_features, batch_labels in helper.load_preprocess_training_batch(batch_i, batch_size):\n",
    "            train_neural_network(sess, optimizer, keep_probability, batch_features, batch_labels)\n",
    "        print('Epoch {:>2}, CIFAR-10 Batch {}:  '.format(epoch + 1, batch_i), end='')\n",
    "        print_stats(sess, batch_features, batch_labels, cost, accuracy)"
   ]
  },
  {
   "cell_type": "markdown",
   "metadata": {},
   "source": [
    "### Fully Train the Model\n",
    "Now that you got a good accuracy with a single CIFAR-10 batch, try it with all five batches."
   ]
  },
  {
   "cell_type": "code",
   "execution_count": 20,
   "metadata": {
    "collapsed": false
   },
   "outputs": [
    {
     "name": "stdout",
     "output_type": "stream",
     "text": [
      "Training...\n",
      "Epoch  1, CIFAR-10 Batch 1:  LOSS:2.280344247817993| VALIDATION:0.10859999805688858\n",
      "Epoch  1, CIFAR-10 Batch 2:  LOSS:2.1538655757904053| VALIDATION:0.15540000796318054\n",
      "Epoch  1, CIFAR-10 Batch 3:  LOSS:2.13729190826416| VALIDATION:0.1549999862909317\n",
      "Epoch  1, CIFAR-10 Batch 4:  LOSS:2.029026985168457| VALIDATION:0.22359998524188995\n",
      "Epoch  1, CIFAR-10 Batch 5:  LOSS:2.0543248653411865| VALIDATION:0.2521999776363373\n",
      "Epoch  2, CIFAR-10 Batch 1:  LOSS:1.990585207939148| VALIDATION:0.2303999811410904\n",
      "Epoch  2, CIFAR-10 Batch 2:  LOSS:2.004267930984497| VALIDATION:0.19939997792243958\n",
      "Epoch  2, CIFAR-10 Batch 3:  LOSS:1.8794493675231934| VALIDATION:0.2670000195503235\n",
      "Epoch  2, CIFAR-10 Batch 4:  LOSS:1.8237789869308472| VALIDATION:0.24719999730587006\n",
      "Epoch  2, CIFAR-10 Batch 5:  LOSS:1.8142184019088745| VALIDATION:0.2971999943256378\n",
      "Epoch  3, CIFAR-10 Batch 1:  LOSS:1.8919782638549805| VALIDATION:0.28759998083114624\n",
      "Epoch  3, CIFAR-10 Batch 2:  LOSS:1.6857001781463623| VALIDATION:0.32319995760917664\n",
      "Epoch  3, CIFAR-10 Batch 3:  LOSS:1.725093960762024| VALIDATION:0.3091999888420105\n",
      "Epoch  3, CIFAR-10 Batch 4:  LOSS:1.628295660018921| VALIDATION:0.35499998927116394\n",
      "Epoch  3, CIFAR-10 Batch 5:  LOSS:1.7170870304107666| VALIDATION:0.35999998450279236\n",
      "Epoch  4, CIFAR-10 Batch 1:  LOSS:1.760969877243042| VALIDATION:0.3344000279903412\n",
      "Epoch  4, CIFAR-10 Batch 2:  LOSS:1.5916900634765625| VALIDATION:0.35499998927116394\n",
      "Epoch  4, CIFAR-10 Batch 3:  LOSS:1.5472960472106934| VALIDATION:0.35439997911453247\n",
      "Epoch  4, CIFAR-10 Batch 4:  LOSS:1.53196120262146| VALIDATION:0.37779998779296875\n",
      "Epoch  4, CIFAR-10 Batch 5:  LOSS:1.5827142000198364| VALIDATION:0.38259997963905334\n",
      "Epoch  5, CIFAR-10 Batch 1:  LOSS:1.7121682167053223| VALIDATION:0.3919999599456787\n",
      "Epoch  5, CIFAR-10 Batch 2:  LOSS:1.5640242099761963| VALIDATION:0.3555999994277954\n",
      "Epoch  5, CIFAR-10 Batch 3:  LOSS:1.4704681634902954| VALIDATION:0.3887999653816223\n",
      "Epoch  5, CIFAR-10 Batch 4:  LOSS:1.4408308267593384| VALIDATION:0.4017999768257141\n",
      "Epoch  5, CIFAR-10 Batch 5:  LOSS:1.5797897577285767| VALIDATION:0.39319998025894165\n",
      "Epoch  6, CIFAR-10 Batch 1:  LOSS:1.6384543180465698| VALIDATION:0.38259997963905334\n",
      "Epoch  6, CIFAR-10 Batch 2:  LOSS:1.4555411338806152| VALIDATION:0.3811999559402466\n",
      "Epoch  6, CIFAR-10 Batch 3:  LOSS:1.4282315969467163| VALIDATION:0.3667999804019928\n",
      "Epoch  6, CIFAR-10 Batch 4:  LOSS:1.4096122980117798| VALIDATION:0.4151999354362488\n",
      "Epoch  6, CIFAR-10 Batch 5:  LOSS:1.490242600440979| VALIDATION:0.4227999746799469\n",
      "Epoch  7, CIFAR-10 Batch 1:  LOSS:1.56670081615448| VALIDATION:0.41499996185302734\n",
      "Epoch  7, CIFAR-10 Batch 2:  LOSS:1.4859105348587036| VALIDATION:0.3667999505996704\n",
      "Epoch  7, CIFAR-10 Batch 3:  LOSS:1.3686304092407227| VALIDATION:0.4275999665260315\n",
      "Epoch  7, CIFAR-10 Batch 4:  LOSS:1.34036123752594| VALIDATION:0.43279996514320374\n",
      "Epoch  7, CIFAR-10 Batch 5:  LOSS:1.4844794273376465| VALIDATION:0.4039999544620514\n",
      "Epoch  8, CIFAR-10 Batch 1:  LOSS:1.561330795288086| VALIDATION:0.42980000376701355\n",
      "Epoch  8, CIFAR-10 Batch 2:  LOSS:1.3995883464813232| VALIDATION:0.4111999571323395\n",
      "Epoch  8, CIFAR-10 Batch 3:  LOSS:1.3645076751708984| VALIDATION:0.4391999840736389\n",
      "Epoch  8, CIFAR-10 Batch 4:  LOSS:1.3113242387771606| VALIDATION:0.4467999339103699\n",
      "Epoch  8, CIFAR-10 Batch 5:  LOSS:1.3855736255645752| VALIDATION:0.4415999948978424\n",
      "Epoch  9, CIFAR-10 Batch 1:  LOSS:1.5224562883377075| VALIDATION:0.41739997267723083\n",
      "Epoch  9, CIFAR-10 Batch 2:  LOSS:1.3101543188095093| VALIDATION:0.41979995369911194\n",
      "Epoch  9, CIFAR-10 Batch 3:  LOSS:1.3396393060684204| VALIDATION:0.40539997816085815\n",
      "Epoch  9, CIFAR-10 Batch 4:  LOSS:1.326217532157898| VALIDATION:0.4351999759674072\n",
      "Epoch  9, CIFAR-10 Batch 5:  LOSS:1.3339091539382935| VALIDATION:0.4535999298095703\n",
      "Epoch 10, CIFAR-10 Batch 1:  LOSS:1.466087818145752| VALIDATION:0.446399986743927\n",
      "Epoch 10, CIFAR-10 Batch 2:  LOSS:1.2792145013809204| VALIDATION:0.4381999969482422\n",
      "Epoch 10, CIFAR-10 Batch 3:  LOSS:1.2452335357666016| VALIDATION:0.42799991369247437\n",
      "Epoch 10, CIFAR-10 Batch 4:  LOSS:1.2519023418426514| VALIDATION:0.4771999716758728\n",
      "Epoch 10, CIFAR-10 Batch 5:  LOSS:1.3301936388015747| VALIDATION:0.4501999616622925\n",
      "Epoch 11, CIFAR-10 Batch 1:  LOSS:1.4162070751190186| VALIDATION:0.44579997658729553\n",
      "Epoch 11, CIFAR-10 Batch 2:  LOSS:1.2398836612701416| VALIDATION:0.4381999671459198\n",
      "Epoch 11, CIFAR-10 Batch 3:  LOSS:1.2365697622299194| VALIDATION:0.43859994411468506\n",
      "Epoch 11, CIFAR-10 Batch 4:  LOSS:1.216158390045166| VALIDATION:0.47039997577667236\n",
      "Epoch 11, CIFAR-10 Batch 5:  LOSS:1.312796711921692| VALIDATION:0.4675999879837036\n",
      "Epoch 12, CIFAR-10 Batch 1:  LOSS:1.405848741531372| VALIDATION:0.4619999825954437\n",
      "Epoch 12, CIFAR-10 Batch 2:  LOSS:1.2673399448394775| VALIDATION:0.46299996972084045\n",
      "Epoch 12, CIFAR-10 Batch 3:  LOSS:1.190873384475708| VALIDATION:0.47119995951652527\n",
      "Epoch 12, CIFAR-10 Batch 4:  LOSS:1.1516132354736328| VALIDATION:0.49379992485046387\n",
      "Epoch 12, CIFAR-10 Batch 5:  LOSS:1.3329763412475586| VALIDATION:0.45659998059272766\n",
      "Epoch 13, CIFAR-10 Batch 1:  LOSS:1.3470213413238525| VALIDATION:0.47499996423721313\n",
      "Epoch 13, CIFAR-10 Batch 2:  LOSS:1.266637921333313| VALIDATION:0.44419994950294495\n",
      "Epoch 13, CIFAR-10 Batch 3:  LOSS:1.1415753364562988| VALIDATION:0.460999995470047\n",
      "Epoch 13, CIFAR-10 Batch 4:  LOSS:1.1301778554916382| VALIDATION:0.4929999113082886\n",
      "Epoch 13, CIFAR-10 Batch 5:  LOSS:1.4001641273498535| VALIDATION:0.4634000062942505\n",
      "Epoch 14, CIFAR-10 Batch 1:  LOSS:1.3283653259277344| VALIDATION:0.47819995880126953\n",
      "Epoch 14, CIFAR-10 Batch 2:  LOSS:1.193288803100586| VALIDATION:0.4731999635696411\n",
      "Epoch 14, CIFAR-10 Batch 3:  LOSS:1.1245365142822266| VALIDATION:0.464199960231781\n",
      "Epoch 14, CIFAR-10 Batch 4:  LOSS:1.0991090536117554| VALIDATION:0.48159995675086975\n",
      "Epoch 14, CIFAR-10 Batch 5:  LOSS:1.1812832355499268| VALIDATION:0.4857999384403229\n",
      "Epoch 15, CIFAR-10 Batch 1:  LOSS:1.257619023323059| VALIDATION:0.48799994587898254\n",
      "Epoch 15, CIFAR-10 Batch 2:  LOSS:1.1334400177001953| VALIDATION:0.46999993920326233\n",
      "Epoch 15, CIFAR-10 Batch 3:  LOSS:1.0466282367706299| VALIDATION:0.4801999628543854\n",
      "Epoch 15, CIFAR-10 Batch 4:  LOSS:1.0796523094177246| VALIDATION:0.5031999349594116\n",
      "Epoch 15, CIFAR-10 Batch 5:  LOSS:1.2132318019866943| VALIDATION:0.4591999650001526\n",
      "Epoch 16, CIFAR-10 Batch 1:  LOSS:1.23786461353302| VALIDATION:0.4861999750137329\n",
      "Epoch 16, CIFAR-10 Batch 2:  LOSS:1.1008574962615967| VALIDATION:0.4939999580383301\n",
      "Epoch 16, CIFAR-10 Batch 3:  LOSS:1.0164670944213867| VALIDATION:0.48319998383522034\n",
      "Epoch 16, CIFAR-10 Batch 4:  LOSS:1.0220998525619507| VALIDATION:0.5037999749183655\n",
      "Epoch 16, CIFAR-10 Batch 5:  LOSS:1.1499888896942139| VALIDATION:0.486799955368042\n",
      "Epoch 17, CIFAR-10 Batch 1:  LOSS:1.1950913667678833| VALIDATION:0.49699994921684265\n",
      "Epoch 17, CIFAR-10 Batch 2:  LOSS:1.062793254852295| VALIDATION:0.4939999282360077\n",
      "Epoch 17, CIFAR-10 Batch 3:  LOSS:1.0399471521377563| VALIDATION:0.4793999493122101\n",
      "Epoch 17, CIFAR-10 Batch 4:  LOSS:1.0068800449371338| VALIDATION:0.4981999099254608\n",
      "Epoch 17, CIFAR-10 Batch 5:  LOSS:1.1202908754348755| VALIDATION:0.5121999382972717\n",
      "Epoch 18, CIFAR-10 Batch 1:  LOSS:1.1663576364517212| VALIDATION:0.4897999167442322\n",
      "Epoch 18, CIFAR-10 Batch 2:  LOSS:1.0818499326705933| VALIDATION:0.49059993028640747\n",
      "Epoch 18, CIFAR-10 Batch 3:  LOSS:0.9984344244003296| VALIDATION:0.49699997901916504\n",
      "Epoch 18, CIFAR-10 Batch 4:  LOSS:0.9869762659072876| VALIDATION:0.5057998895645142\n",
      "Epoch 18, CIFAR-10 Batch 5:  LOSS:1.092092752456665| VALIDATION:0.5151999592781067\n",
      "Epoch 19, CIFAR-10 Batch 1:  LOSS:1.133585810661316| VALIDATION:0.49519994854927063\n",
      "Epoch 19, CIFAR-10 Batch 2:  LOSS:1.0477590560913086| VALIDATION:0.5071999430656433\n",
      "Epoch 19, CIFAR-10 Batch 3:  LOSS:0.9875673055648804| VALIDATION:0.4963999390602112\n",
      "Epoch 19, CIFAR-10 Batch 4:  LOSS:0.9632868766784668| VALIDATION:0.5095999836921692\n",
      "Epoch 19, CIFAR-10 Batch 5:  LOSS:1.1258872747421265| VALIDATION:0.5069999694824219\n",
      "Epoch 20, CIFAR-10 Batch 1:  LOSS:1.1372323036193848| VALIDATION:0.49039995670318604\n",
      "Epoch 20, CIFAR-10 Batch 2:  LOSS:1.0302822589874268| VALIDATION:0.5067999362945557\n",
      "Epoch 20, CIFAR-10 Batch 3:  LOSS:1.0061246156692505| VALIDATION:0.48399996757507324\n",
      "Epoch 20, CIFAR-10 Batch 4:  LOSS:0.9730249047279358| VALIDATION:0.5163999795913696\n",
      "Epoch 20, CIFAR-10 Batch 5:  LOSS:1.0524146556854248| VALIDATION:0.5153999924659729\n"
     ]
    }
   ],
   "source": [
    "\"\"\"\n",
    "DON'T MODIFY ANYTHING IN THIS CELL\n",
    "\"\"\"\n",
    "save_model_path = './image_classification'\n",
    "\n",
    "print('Training...')\n",
    "with tf.Session() as sess:\n",
    "    # Initializing the variables\n",
    "    sess.run(tf.global_variables_initializer())\n",
    "    \n",
    "    # Training cycle\n",
    "    for epoch in range(epochs):\n",
    "        # Loop over all batches\n",
    "        n_batches = 5\n",
    "        for batch_i in range(1, n_batches + 1):\n",
    "            for batch_features, batch_labels in helper.load_preprocess_training_batch(batch_i, batch_size):\n",
    "                train_neural_network(sess, optimizer, keep_probability, batch_features, batch_labels)\n",
    "            print('Epoch {:>2}, CIFAR-10 Batch {}:  '.format(epoch + 1, batch_i), end='')\n",
    "            print_stats(sess, batch_features, batch_labels, cost, accuracy)\n",
    "            \n",
    "    # Save Model\n",
    "    saver = tf.train.Saver()\n",
    "    save_path = saver.save(sess, save_model_path)"
   ]
  },
  {
   "cell_type": "markdown",
   "metadata": {},
   "source": [
    "# Checkpoint\n",
    "The model has been saved to disk.\n",
    "## Test Model\n",
    "Test your model against the test dataset.  This will be your final accuracy. You should have an accuracy greater than 50%. If you don't, keep tweaking the model architecture and parameters."
   ]
  },
  {
   "cell_type": "code",
   "execution_count": 21,
   "metadata": {
    "collapsed": false
   },
   "outputs": [
    {
     "name": "stdout",
     "output_type": "stream",
     "text": [
      "INFO:tensorflow:Restoring parameters from ./image_classification\n",
      "Testing Accuracy: 0.5394473820924759\n",
      "\n"
     ]
    },
    {
     "data": {
      "image/png": "[encoded data removed]",
      "text/plain": [
       "<matplotlib.figure.Figure at 0x1bdd45b5128>"
      ]
     },
     "metadata": {
      "image/png": {
       "height": 319,
       "width": 355
      }
     },
     "output_type": "display_data"
    }
   ],
   "source": [
    "\"\"\"\n",
    "DON'T MODIFY ANYTHING IN THIS CELL\n",
    "\"\"\"\n",
    "%matplotlib inline\n",
    "%config InlineBackend.figure_format = 'retina'\n",
    "\n",
    "import tensorflow as tf\n",
    "import pickle\n",
    "import helper\n",
    "import random\n",
    "\n",
    "# Set batch size if not already set\n",
    "try:\n",
    "    if batch_size:\n",
    "        pass\n",
    "except NameError:\n",
    "    batch_size = 64\n",
    "\n",
    "save_model_path = './image_classification'\n",
    "n_samples = 4\n",
    "top_n_predictions = 3\n",
    "\n",
    "def test_model():\n",
    "    \"\"\"\n",
    "    Test the saved model against the test dataset\n",
    "    \"\"\"\n",
    "\n",
    "    test_features, test_labels = pickle.load(open('preprocess_test.p', mode='rb'))\n",
    "    loaded_graph = tf.Graph()\n",
    "\n",
    "    with tf.Session(graph=loaded_graph) as sess:\n",
    "        # Load model\n",
    "        loader = tf.train.import_meta_graph(save_model_path + '.meta')\n",
    "        loader.restore(sess, save_model_path)\n",
    "\n",
    "        # Get Tensors from loaded model\n",
    "        loaded_x = loaded_graph.get_tensor_by_name('x:0')\n",
    "        loaded_y = loaded_graph.get_tensor_by_name('y:0')\n",
    "        loaded_keep_prob = loaded_graph.get_tensor_by_name('keep_prob:0')\n",
    "        loaded_logits = loaded_graph.get_tensor_by_name('logits:0')\n",
    "        loaded_acc = loaded_graph.get_tensor_by_name('accuracy:0')\n",
    "        \n",
    "        # Get accuracy in batches for memory limitations\n",
    "        test_batch_acc_total = 0\n",
    "        test_batch_count = 0\n",
    "        \n",
    "        for test_feature_batch, test_label_batch in helper.batch_features_labels(test_features, test_labels, batch_size):\n",
    "            test_batch_acc_total += sess.run(\n",
    "                loaded_acc,\n",
    "                feed_dict={loaded_x: test_feature_batch, loaded_y: test_label_batch, loaded_keep_prob: 1.0})\n",
    "            test_batch_count += 1\n",
    "\n",
    "        print('Testing Accuracy: {}\\n'.format(test_batch_acc_total/test_batch_count))\n",
    "\n",
    "        # Print Random Samples\n",
    "        random_test_features, random_test_labels = tuple(zip(*random.sample(list(zip(test_features, test_labels)), n_samples)))\n",
    "        random_test_predictions = sess.run(\n",
    "            tf.nn.top_k(tf.nn.softmax(loaded_logits), top_n_predictions),\n",
    "            feed_dict={loaded_x: random_test_features, loaded_y: random_test_labels, loaded_keep_prob: 1.0})\n",
    "        helper.display_image_predictions(random_test_features, random_test_labels, random_test_predictions)\n",
    "\n",
    "\n",
    "test_model()"
   ]
  },
  {
   "cell_type": "markdown",
   "metadata": {},
   "source": [
    "## Why 50-80% Accuracy?\n",
    "You might be wondering why you can't get an accuracy any higher. First things first, 50% isn't bad for a simple CNN.  Pure guessing would get you 10% accuracy. However, you might notice people are getting scores [well above 80%](http://rodrigob.github.io/are_we_there_yet/build/classification_datasets_results.html#43494641522d3130).  That's because we haven't taught you all there is to know about neural networks. We still need to cover a few more techniques.\n",
    "## Submitting This Project\n",
    "When submitting this project, make sure to run all the cells before saving the notebook.  Save the notebook file as \"dlnd_image_classification.ipynb\" and save it as a HTML file under \"File\" -> \"Download as\".  Include the \"helper.py\" and \"problem_unittests.py\" files in your submission."
   ]
  }
 ],
 "metadata": {
  "kernelspec": {
   "display_name": "Environment (conda_tensorflow-gpu)",
   "language": "python",
   "name": "conda_tensorflow-gpu"
  },
  "language_info": {
   "codemirror_mode": {
    "name": "ipython",
    "version": 3
   },
   "file_extension": ".py",
   "mimetype": "text/x-python",
   "name": "python",
   "nbconvert_exporter": "python",
   "pygments_lexer": "ipython3",
   "version": "3.5.3"
  }
 },
 "nbformat": 4,
 "nbformat_minor": 0
}
